{
 "cells": [
  {
   "cell_type": "code",
   "execution_count": 31,
   "metadata": {},
   "outputs": [],
   "source": [
    "# Import Libraries\n",
    "import requests\n",
    "import pandas as pd"
   ]
  },
  {
   "cell_type": "code",
   "execution_count": 32,
   "metadata": {},
   "outputs": [],
   "source": [
    "# Pull in data from API\n",
    "url = \"http://zelda.fanapis.com/api/games\"\n",
    "r = requests.get(url)\n",
    "json = r.json()"
   ]
  },
  {
   "cell_type": "code",
   "execution_count": 33,
   "metadata": {},
   "outputs": [
    {
     "name": "stdout",
     "output_type": "stream",
     "text": [
      "                                       name  \\\n",
      "0                       The Legend of Zelda   \n",
      "1   The Legend of Zelda: A Link to the Past   \n",
      "2      The Legend of Zelda: Ocarina of Time   \n",
      "3       The Legend of Zelda: Oracle of Ages   \n",
      "4  The Legend of Zelda: Link's Awakening DX   \n",
      "\n",
      "                                         description       developer  \\\n",
      "0  The Legend of Zelda is the first installment o...  Nintendo R&D 4   \n",
      "1  One day, a band of evil thieves managed to ope...        Nintendo   \n",
      "2  The Legend of Zelda: Ocarina of Time is the fi...    Nintendo EAD   \n",
      "3  The Legend of Zelda: Oracle of Ages is one of ...          Capcom   \n",
      "4  The game was also made available on the Ninten...        Nintendo   \n",
      "\n",
      "  publisher       released_date                        id  \n",
      "0  Nintendo   February 21, 1986  5f6ce9d805615a85623ec2b7  \n",
      "1  Nintendo      April 13, 1992  5f6ce9d805615a85623ec2b8  \n",
      "2  Nintendo   November 23, 1998  5f6ce9d805615a85623ec2ba  \n",
      "3  Nintendo        May 14, 2001  5f6ce9d805615a85623ec2b9  \n",
      "4  Nintendo   December 15, 1998  5f6ce9d805615a85623ec2bb  \n"
     ]
    }
   ],
   "source": [
    "# Create the dataframe\n",
    "df = pd.DataFrame(json[\"data\"])\n",
    "\n",
    "# View first five rows of dataframe\n",
    "print(df.head())"
   ]
  },
  {
   "cell_type": "code",
   "execution_count": 34,
   "metadata": {},
   "outputs": [
    {
     "data": {
      "text/html": [
       "<div>\n",
       "<style scoped>\n",
       "    .dataframe tbody tr th:only-of-type {\n",
       "        vertical-align: middle;\n",
       "    }\n",
       "\n",
       "    .dataframe tbody tr th {\n",
       "        vertical-align: top;\n",
       "    }\n",
       "\n",
       "    .dataframe thead th {\n",
       "        text-align: right;\n",
       "    }\n",
       "</style>\n",
       "<table border=\"1\" class=\"dataframe\">\n",
       "  <thead>\n",
       "    <tr style=\"text-align: right;\">\n",
       "      <th></th>\n",
       "      <th>name</th>\n",
       "      <th>description</th>\n",
       "      <th>developer</th>\n",
       "      <th>publisher</th>\n",
       "      <th>released_date</th>\n",
       "    </tr>\n",
       "  </thead>\n",
       "  <tbody>\n",
       "    <tr>\n",
       "      <th>0</th>\n",
       "      <td>The Legend of Zelda</td>\n",
       "      <td>The Legend of Zelda is the first installment o...</td>\n",
       "      <td>Nintendo R&amp;D 4</td>\n",
       "      <td>Nintendo</td>\n",
       "      <td>February 21, 1986</td>\n",
       "    </tr>\n",
       "    <tr>\n",
       "      <th>1</th>\n",
       "      <td>The Legend of Zelda: A Link to the Past</td>\n",
       "      <td>One day, a band of evil thieves managed to ope...</td>\n",
       "      <td>Nintendo</td>\n",
       "      <td>Nintendo</td>\n",
       "      <td>April 13, 1992</td>\n",
       "    </tr>\n",
       "    <tr>\n",
       "      <th>2</th>\n",
       "      <td>The Legend of Zelda: Ocarina of Time</td>\n",
       "      <td>The Legend of Zelda: Ocarina of Time is the fi...</td>\n",
       "      <td>Nintendo EAD</td>\n",
       "      <td>Nintendo</td>\n",
       "      <td>November 23, 1998</td>\n",
       "    </tr>\n",
       "    <tr>\n",
       "      <th>3</th>\n",
       "      <td>The Legend of Zelda: Oracle of Ages</td>\n",
       "      <td>The Legend of Zelda: Oracle of Ages is one of ...</td>\n",
       "      <td>Capcom</td>\n",
       "      <td>Nintendo</td>\n",
       "      <td>May 14, 2001</td>\n",
       "    </tr>\n",
       "    <tr>\n",
       "      <th>4</th>\n",
       "      <td>The Legend of Zelda: Link's Awakening DX</td>\n",
       "      <td>The game was also made available on the Ninten...</td>\n",
       "      <td>Nintendo</td>\n",
       "      <td>Nintendo</td>\n",
       "      <td>December 15, 1998</td>\n",
       "    </tr>\n",
       "  </tbody>\n",
       "</table>\n",
       "</div>"
      ],
      "text/plain": [
       "                                       name  \\\n",
       "0                       The Legend of Zelda   \n",
       "1   The Legend of Zelda: A Link to the Past   \n",
       "2      The Legend of Zelda: Ocarina of Time   \n",
       "3       The Legend of Zelda: Oracle of Ages   \n",
       "4  The Legend of Zelda: Link's Awakening DX   \n",
       "\n",
       "                                         description       developer  \\\n",
       "0  The Legend of Zelda is the first installment o...  Nintendo R&D 4   \n",
       "1  One day, a band of evil thieves managed to ope...        Nintendo   \n",
       "2  The Legend of Zelda: Ocarina of Time is the fi...    Nintendo EAD   \n",
       "3  The Legend of Zelda: Oracle of Ages is one of ...          Capcom   \n",
       "4  The game was also made available on the Ninten...        Nintendo   \n",
       "\n",
       "  publisher       released_date  \n",
       "0  Nintendo   February 21, 1986  \n",
       "1  Nintendo      April 13, 1992  \n",
       "2  Nintendo   November 23, 1998  \n",
       "3  Nintendo        May 14, 2001  \n",
       "4  Nintendo   December 15, 1998  "
      ]
     },
     "execution_count": 34,
     "metadata": {},
     "output_type": "execute_result"
    }
   ],
   "source": [
    "# Drop the \"id\" column\n",
    "zelda_games = df.drop(columns=[\"id\"])\n",
    "\n",
    "# View first five rows of data to confirm that the \"id\" column was dropped\n",
    "zelda_games.head()"
   ]
  },
  {
   "cell_type": "code",
   "execution_count": 35,
   "metadata": {},
   "outputs": [
    {
     "data": {
      "text/plain": [
       "Index(['name', 'description', 'developer', 'publisher', 'released_date'], dtype='object')"
      ]
     },
     "execution_count": 35,
     "metadata": {},
     "output_type": "execute_result"
    }
   ],
   "source": [
    "zelda_games.columns"
   ]
  },
  {
   "cell_type": "code",
   "execution_count": 38,
   "metadata": {},
   "outputs": [
    {
     "data": {
      "text/html": [
       "<div>\n",
       "<style scoped>\n",
       "    .dataframe tbody tr th:only-of-type {\n",
       "        vertical-align: middle;\n",
       "    }\n",
       "\n",
       "    .dataframe tbody tr th {\n",
       "        vertical-align: top;\n",
       "    }\n",
       "\n",
       "    .dataframe thead th {\n",
       "        text-align: right;\n",
       "    }\n",
       "</style>\n",
       "<table border=\"1\" class=\"dataframe\">\n",
       "  <thead>\n",
       "    <tr style=\"text-align: right;\">\n",
       "      <th></th>\n",
       "      <th>Name</th>\n",
       "      <th>Description</th>\n",
       "      <th>Developer</th>\n",
       "      <th>Publisher</th>\n",
       "      <th>Released Date</th>\n",
       "    </tr>\n",
       "  </thead>\n",
       "  <tbody>\n",
       "    <tr>\n",
       "      <th>0</th>\n",
       "      <td>The Legend of Zelda</td>\n",
       "      <td>The Legend of Zelda is the first installment o...</td>\n",
       "      <td>Nintendo R&amp;D 4</td>\n",
       "      <td>Nintendo</td>\n",
       "      <td>February 21, 1986</td>\n",
       "    </tr>\n",
       "    <tr>\n",
       "      <th>1</th>\n",
       "      <td>The Legend of Zelda: A Link to the Past</td>\n",
       "      <td>One day, a band of evil thieves managed to ope...</td>\n",
       "      <td>Nintendo</td>\n",
       "      <td>Nintendo</td>\n",
       "      <td>April 13, 1992</td>\n",
       "    </tr>\n",
       "    <tr>\n",
       "      <th>2</th>\n",
       "      <td>The Legend of Zelda: Ocarina of Time</td>\n",
       "      <td>The Legend of Zelda: Ocarina of Time is the fi...</td>\n",
       "      <td>Nintendo EAD</td>\n",
       "      <td>Nintendo</td>\n",
       "      <td>November 23, 1998</td>\n",
       "    </tr>\n",
       "    <tr>\n",
       "      <th>3</th>\n",
       "      <td>The Legend of Zelda: Oracle of Ages</td>\n",
       "      <td>The Legend of Zelda: Oracle of Ages is one of ...</td>\n",
       "      <td>Capcom</td>\n",
       "      <td>Nintendo</td>\n",
       "      <td>May 14, 2001</td>\n",
       "    </tr>\n",
       "    <tr>\n",
       "      <th>4</th>\n",
       "      <td>The Legend of Zelda: Link's Awakening DX</td>\n",
       "      <td>The game was also made available on the Ninten...</td>\n",
       "      <td>Nintendo</td>\n",
       "      <td>Nintendo</td>\n",
       "      <td>December 15, 1998</td>\n",
       "    </tr>\n",
       "  </tbody>\n",
       "</table>\n",
       "</div>"
      ],
      "text/plain": [
       "                                       Name  \\\n",
       "0                       The Legend of Zelda   \n",
       "1   The Legend of Zelda: A Link to the Past   \n",
       "2      The Legend of Zelda: Ocarina of Time   \n",
       "3       The Legend of Zelda: Oracle of Ages   \n",
       "4  The Legend of Zelda: Link's Awakening DX   \n",
       "\n",
       "                                         Description       Developer  \\\n",
       "0  The Legend of Zelda is the first installment o...  Nintendo R&D 4   \n",
       "1  One day, a band of evil thieves managed to ope...        Nintendo   \n",
       "2  The Legend of Zelda: Ocarina of Time is the fi...    Nintendo EAD   \n",
       "3  The Legend of Zelda: Oracle of Ages is one of ...          Capcom   \n",
       "4  The game was also made available on the Ninten...        Nintendo   \n",
       "\n",
       "  Publisher       Released Date  \n",
       "0  Nintendo   February 21, 1986  \n",
       "1  Nintendo      April 13, 1992  \n",
       "2  Nintendo   November 23, 1998  \n",
       "3  Nintendo        May 14, 2001  \n",
       "4  Nintendo   December 15, 1998  "
      ]
     },
     "execution_count": 38,
     "metadata": {},
     "output_type": "execute_result"
    }
   ],
   "source": [
    "fixed_columns = {\n",
    "    \"name\":\"Name\",\n",
    "    \"description\":\"Description\",\n",
    "    \"developer\":\"Developer\",\n",
    "    \"publisher\":\"Publisher\",\n",
    "    \"released_date\":\"Released Date\"\n",
    "}\n",
    "\n",
    "zelda_games.rename(columns=fixed_columns, inplace=True)\n",
    "zelda_games.head()"
   ]
  }
 ],
 "metadata": {
  "kernelspec": {
   "display_name": "Python 3.9.7 ('base')",
   "language": "python",
   "name": "python3"
  },
  "language_info": {
   "codemirror_mode": {
    "name": "ipython",
    "version": 3
   },
   "file_extension": ".py",
   "mimetype": "text/x-python",
   "name": "python",
   "nbconvert_exporter": "python",
   "pygments_lexer": "ipython3",
   "version": "3.9.7"
  },
  "orig_nbformat": 4,
  "vscode": {
   "interpreter": {
    "hash": "336eef9849b77f6b0e6305e90cdc738d46520fb9fa12c5786748c59b9e847d10"
   }
  }
 },
 "nbformat": 4,
 "nbformat_minor": 2
}
